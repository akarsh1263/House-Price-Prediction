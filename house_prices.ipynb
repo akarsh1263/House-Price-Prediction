{
  "nbformat": 4,
  "nbformat_minor": 0,
  "metadata": {
    "colab": {
      "provenance": []
    },
    "kernelspec": {
      "name": "python3",
      "display_name": "Python 3"
    },
    "language_info": {
      "name": "python"
    }
  },
  "cells": [
    {
      "cell_type": "code",
      "execution_count": null,
      "metadata": {
        "id": "IP8jY9If7m8d"
      },
      "outputs": [],
      "source": [
        "from sklearn.preprocessing import MinMaxScaler\n",
        "from sklearn.model_selection import train_test_split\n",
        "from sklearn.linear_model import LinearRegression\n",
        "from sklearn.metrics import mean_squared_error, r2_score\n",
        "from sklearn.ensemble import RandomForestRegressor\n",
        "import pandas as pd"
      ]
    },
    {
      "cell_type": "code",
      "source": [
        "df = pd.read_excel('house_prices.xlsx')\n",
        "df.to_csv('house_prices.csv', index=False)"
      ],
      "metadata": {
        "id": "6wsIi5Yq81KR"
      },
      "execution_count": null,
      "outputs": []
    },
    {
      "cell_type": "code",
      "source": [
        "df = df.drop('No', axis=1)\n",
        "df = df.rename(columns={'X1 transaction date': 'date', 'X2 house age': 'house_age',\n",
        "                        'X3 distance to the nearest MRT station':'MRT_distance',\n",
        "                        'X4 number of convenience stores':'stores','X5 latitude':'latitude','X6 longitude':'longitude',\n",
        "                        'Y house price of unit area':'price'})\n",
        "df['date']=df['date'].astype(str)\n",
        "df['date'] = df['date'].str[:4]\n",
        "cols_to_normalize = ['date', 'house_age', 'MRT_distance','stores','latitude','longitude']\n",
        "scaler = MinMaxScaler()\n",
        "df[cols_to_normalize] = scaler.fit_transform(df[cols_to_normalize])"
      ],
      "metadata": {
        "id": "zZkRL8MwCKRW"
      },
      "execution_count": null,
      "outputs": []
    },
    {
      "cell_type": "code",
      "source": [
        "X = df[['date', 'house_age', 'MRT_distance', 'stores', 'latitude', 'longitude']]\n",
        "y = df['price']\n",
        "\n",
        "X_train, X_test, y_train, y_test = train_test_split(X, y, test_size=0.2, random_state=42)"
      ],
      "metadata": {
        "id": "c-1yusfPJrUf"
      },
      "execution_count": null,
      "outputs": []
    },
    {
      "cell_type": "code",
      "source": [
        "model_linear_reg = LinearRegression()\n",
        "model_linear_reg.fit(X_train, y_train)\n",
        "y_pred_linear_reg = model_linear_reg.predict(X_test)\n",
        "mse_linear_reg = mean_squared_error(y_test, y_pred_linear_reg)\n",
        "print(\"Mean squared error with linear regression: \", mse_linear_reg)\n",
        "r2_linear_reg = r2_score(y_test, y_pred_linear_reg)\n",
        "print(\"R-squared value with linear regression: \", r2_linear_reg)"
      ],
      "metadata": {
        "colab": {
          "base_uri": "https://localhost:8080/"
        },
        "id": "Yy0qhAKaNVkW",
        "outputId": "200d0f4a-91d7-4689-cbd0-5c6ed6673b2d"
      },
      "execution_count": null,
      "outputs": [
        {
          "output_type": "stream",
          "name": "stdout",
          "text": [
            "Mean squared error with linear regression:  51.12134758087961\n",
            "R-squared value with linear regression:  0.6952704730978598\n"
          ]
        }
      ]
    },
    {
      "cell_type": "code",
      "source": [
        "rf_model = RandomForestRegressor(n_estimators=100, random_state=42)\n",
        "rf_model.fit(X_train, y_train)\n",
        "y_pred_rf = rf_model.predict(X_test)\n",
        "mse_rf = mean_squared_error(y_test, y_pred_rf)\n",
        "r2_rf = r2_score(y_test, y_pred_rf)\n",
        "print(\"Mean Squared Error with random forest:\", mse_rf)\n",
        "print(\"R-squared Score with random forest:\", r2_rf)"
      ],
      "metadata": {
        "colab": {
          "base_uri": "https://localhost:8080/"
        },
        "id": "FoZUPeBnONiA",
        "outputId": "d70b18d2-e33a-4cac-a8ae-7e98a889f4cc"
      },
      "execution_count": null,
      "outputs": [
        {
          "output_type": "stream",
          "name": "stdout",
          "text": [
            "Mean Squared Error with random forest: 31.333380310637047\n",
            "R-squared Score with random forest: 0.8132246779449828\n"
          ]
        }
      ]
    }
  ]
}